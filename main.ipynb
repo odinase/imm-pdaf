{
 "metadata": {
  "language_info": {
   "codemirror_mode": {
    "name": "ipython",
    "version": 3
   },
   "file_extension": ".py",
   "mimetype": "text/x-python",
   "name": "python",
   "nbconvert_exporter": "python",
   "pygments_lexer": "ipython3",
   "version": 3
  },
  "orig_nbformat": 2,
  "kernelspec": {
   "name": "rust",
   "display_name": "Rust",
   "language": "rust"
  }
 },
 "nbformat": 4,
 "nbformat_minor": 2,
 "cells": [
  {
   "cell_type": "code",
   "execution_count": 7,
   "metadata": {},
   "outputs": [],
   "source": [
    ":dep imm_pdaf"
   ]
  },
  {
   "cell_type": "code",
   "execution_count": 8,
   "metadata": {},
   "outputs": [
    {
     "output_type": "error",
     "ename": "Error",
     "evalue": "unresolved import `simulator`",
     "traceback": [
      "use simulator::run_ekf;",
      "    ^^^^^^^^^ use of undeclared crate or module `simulator`",
      "unresolved import `simulator`"
     ]
    }
   ],
   "source": [
    "use imm_pdaf::simulator::run_ekf;"
   ]
  },
  {
   "cell_type": "code",
   "execution_count": null,
   "metadata": {},
   "outputs": [],
   "source": [
    "run_ekf()"
   ]
  }
 ]
}